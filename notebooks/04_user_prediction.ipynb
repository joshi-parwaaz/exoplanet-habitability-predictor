{
 "cells": [
  {
   "cell_type": "markdown",
   "id": "97c409aa",
   "metadata": {},
   "source": [
    "# Demo: Exoplanet Habitability Prediction\n",
    "\n",
    "In this notebook, users can input planetary and stellar parameters and get a habitability score. No sliders—just fields with specified valid ranges. We’ll:\n",
    "\n",
    "1. Load our scaler, model, and threshold.  \n",
    "2. Display input fields with min/max hints.  \n",
    "3. On button click, scale the inputs, run the model, and show the probability & classification.  "
   ]
  },
  {
   "cell_type": "code",
   "execution_count": 2,
   "id": "ff7af4fa",
   "metadata": {},
   "outputs": [
    {
     "data": {
      "text/plain": [
       "SimpleHabitabilityNet(\n",
       "  (net): Sequential(\n",
       "    (0): Linear(in_features=8, out_features=32, bias=True)\n",
       "    (1): ReLU(inplace=True)\n",
       "    (2): Dropout(p=0.2, inplace=False)\n",
       "    (3): Linear(in_features=32, out_features=16, bias=True)\n",
       "    (4): ReLU(inplace=True)\n",
       "    (5): Dropout(p=0.2, inplace=False)\n",
       "    (6): Linear(in_features=16, out_features=1, bias=True)\n",
       "  )\n",
       ")"
      ]
     },
     "execution_count": 2,
     "metadata": {},
     "output_type": "execute_result"
    }
   ],
   "source": [
    "# 0) Ensure imports can find src/\n",
    "import os, sys\n",
    "project_root = os.path.abspath(os.path.join(os.getcwd(), \"..\"))\n",
    "if project_root not in sys.path:\n",
    "    sys.path.insert(0, project_root)\n",
    "\n",
    "# 1) Standard imports & load artifacts\n",
    "import json, joblib, numpy as np, torch\n",
    "import ipywidgets as widgets\n",
    "from IPython.display import display, Markdown\n",
    "from src.model import SimpleHabitabilityNet\n",
    "\n",
    "ART = os.path.join(\"..\",\"data\",\"artifacts\")\n",
    "scaler    = joblib.load(f\"{ART}/scaler.joblib\")\n",
    "threshold = json.load(open(f\"{ART}/config.json\"))[\"threshold\"]\n",
    "model     = SimpleHabitabilityNet(input_dim=8)\n",
    "model.load_state_dict(torch.load(f\"{ART}/model.pth\", map_location=\"cpu\"))\n",
    "model.eval()"
   ]
  },
  {
   "cell_type": "code",
   "execution_count": 3,
   "id": "4adc5373",
   "metadata": {},
   "outputs": [],
   "source": [
    "# 2) Build the input fields, button, and output area\n",
    "fields = dict(\n",
    "    pl_rade    = widgets.BoundedFloatText(1.0, min=0.1, max=100,   step=0.1, description='pl_rade:'),\n",
    "    pl_bmasse  = widgets.BoundedFloatText(1.0, min=0.1, max=10000, step=0.1, description='pl_bmasse:'),\n",
    "    pl_orbsmax = widgets.BoundedFloatText(1.0, min=0.001, max=1000,step=0.001, description='pl_orbsmax:'),\n",
    "    pl_orbeccen= widgets.BoundedFloatText(0.0, min=0.0, max=1.0,   step=0.01, description='pl_orbeccen:'),\n",
    "    pl_insol   = widgets.BoundedFloatText(1.0, min=0.0, max=1e5,   step=1,   description='pl_insol:'),\n",
    "    st_teff    = widgets.BoundedIntText   (5778, min=2000, max=50000,step=10,  description='st_teff:'),\n",
    "    st_rad     = widgets.BoundedFloatText(1.0, min=0.01, max=100,  step=0.01, description='st_rad:'),\n",
    "    st_mass    = widgets.BoundedFloatText(1.0, min=0.01, max=100,  step=0.01, description='st_mass:'),\n",
    ")\n",
    "button = widgets.Button(description=\"Predict\")\n",
    "output = widgets.Output()"
   ]
  },
  {
   "cell_type": "code",
   "execution_count": 4,
   "id": "acf9480e",
   "metadata": {},
   "outputs": [],
   "source": [
    "# 3) Define the callback—and bind it *before* we display anything\n",
    "def on_predict(_):\n",
    "    vals = np.array([[fld.value for fld in fields.values()]])\n",
    "    Xs   = scaler.transform(vals)\n",
    "    with torch.no_grad():\n",
    "        logits = model(torch.from_numpy(Xs).float())\n",
    "        prob   = torch.sigmoid(logits).item()\n",
    "    verdict = \"🪐 Habitable\" if prob >= threshold else \"✖ Non-habitable\"\n",
    "    with output:\n",
    "        output.clear_output()\n",
    "        display(Markdown(\n",
    "            f\"**Probability:** {prob:.3f}  \\n\"\n",
    "            f\"**Prediction (@{threshold}):** {verdict}\"\n",
    "        ))\n",
    "\n",
    "button.on_click(on_predict)\n"
   ]
  },
  {
   "cell_type": "code",
   "execution_count": 5,
   "id": "81bd2401",
   "metadata": {},
   "outputs": [
    {
     "data": {
      "application/vnd.jupyter.widget-view+json": {
       "model_id": "d32645c724d149ab94197d6fabf73aef",
       "version_major": 2,
       "version_minor": 0
      },
      "text/plain": [
       "BoundedFloatText(value=1.0, description='pl_rade:', min=0.1, step=0.1)"
      ]
     },
     "metadata": {},
     "output_type": "display_data"
    },
    {
     "data": {
      "application/vnd.jupyter.widget-view+json": {
       "model_id": "380a55af5509401d806090042d0385ec",
       "version_major": 2,
       "version_minor": 0
      },
      "text/plain": [
       "BoundedFloatText(value=1.0, description='pl_bmasse:', max=10000.0, min=0.1, step=0.1)"
      ]
     },
     "metadata": {},
     "output_type": "display_data"
    },
    {
     "data": {
      "application/vnd.jupyter.widget-view+json": {
       "model_id": "12d1e7d152c64663a7999a4b23c2124c",
       "version_major": 2,
       "version_minor": 0
      },
      "text/plain": [
       "BoundedFloatText(value=1.0, description='pl_orbsmax:', max=1000.0, min=0.001, step=0.001)"
      ]
     },
     "metadata": {},
     "output_type": "display_data"
    },
    {
     "data": {
      "application/vnd.jupyter.widget-view+json": {
       "model_id": "93056aedbf9a489a85b0de26db731b3a",
       "version_major": 2,
       "version_minor": 0
      },
      "text/plain": [
       "BoundedFloatText(value=0.0, description='pl_orbeccen:', max=1.0, step=0.01)"
      ]
     },
     "metadata": {},
     "output_type": "display_data"
    },
    {
     "data": {
      "application/vnd.jupyter.widget-view+json": {
       "model_id": "3db9d896941a4701a0b5fa27a38f1074",
       "version_major": 2,
       "version_minor": 0
      },
      "text/plain": [
       "BoundedFloatText(value=1.0, description='pl_insol:', max=100000.0, step=1.0)"
      ]
     },
     "metadata": {},
     "output_type": "display_data"
    },
    {
     "data": {
      "application/vnd.jupyter.widget-view+json": {
       "model_id": "dd5e0bdacbeb4b58a1b81d81a0ef2fb8",
       "version_major": 2,
       "version_minor": 0
      },
      "text/plain": [
       "BoundedIntText(value=5778, description='st_teff:', max=50000, min=2000, step=10)"
      ]
     },
     "metadata": {},
     "output_type": "display_data"
    },
    {
     "data": {
      "application/vnd.jupyter.widget-view+json": {
       "model_id": "357028e0587e46debe091159e097a861",
       "version_major": 2,
       "version_minor": 0
      },
      "text/plain": [
       "BoundedFloatText(value=1.0, description='st_rad:', min=0.01, step=0.01)"
      ]
     },
     "metadata": {},
     "output_type": "display_data"
    },
    {
     "data": {
      "application/vnd.jupyter.widget-view+json": {
       "model_id": "7f1424b993674c0bb5d509a5c394ca9e",
       "version_major": 2,
       "version_minor": 0
      },
      "text/plain": [
       "BoundedFloatText(value=1.0, description='st_mass:', min=0.01, step=0.01)"
      ]
     },
     "metadata": {},
     "output_type": "display_data"
    },
    {
     "data": {
      "application/vnd.jupyter.widget-view+json": {
       "model_id": "8021be3e6c9f45688170c30f0cb5c84d",
       "version_major": 2,
       "version_minor": 0
      },
      "text/plain": [
       "Button(description='Predict', style=ButtonStyle())"
      ]
     },
     "metadata": {},
     "output_type": "display_data"
    },
    {
     "data": {
      "application/vnd.jupyter.widget-view+json": {
       "model_id": "90cbceb4921640da862ddc05c4b387ff",
       "version_major": 2,
       "version_minor": 0
      },
      "text/plain": [
       "Output()"
      ]
     },
     "metadata": {},
     "output_type": "display_data"
    }
   ],
   "source": [
    "# 4) Now display the form and the live button\n",
    "for fld in fields.values():\n",
    "    display(fld)\n",
    "display(button, output)\n"
   ]
  },
  {
   "cell_type": "markdown",
   "id": "3ac38c41",
   "metadata": {},
   "source": [
    "## How to Use\n",
    "\n",
    "1. Adjust any of the eight fields within their allowed ranges.  \n",
    "2. Click **Predict**—the result shows immediately below.  \n",
    "3. Change values and re-click to rerun the prediction.\n"
   ]
  }
 ],
 "metadata": {
  "kernelspec": {
   "display_name": "Python 3",
   "language": "python",
   "name": "python3"
  },
  "language_info": {
   "codemirror_mode": {
    "name": "ipython",
    "version": 3
   },
   "file_extension": ".py",
   "mimetype": "text/x-python",
   "name": "python",
   "nbconvert_exporter": "python",
   "pygments_lexer": "ipython3",
   "version": "3.13.5"
  }
 },
 "nbformat": 4,
 "nbformat_minor": 5
}
